{
 "cells": [
  {
   "cell_type": "markdown",
   "metadata": {
    "tags": []
   },
   "source": [
    "# Preliminaries"
   ]
  },
  {
   "cell_type": "code",
   "execution_count": null,
   "metadata": {
    "tags": []
   },
   "outputs": [],
   "source": [
    "%pylab inline"
   ]
  },
  {
   "cell_type": "code",
   "execution_count": null,
   "metadata": {},
   "outputs": [],
   "source": [
    "import torch\n",
    "a = torch.zeros(3, device=\"cuda:0\")\n",
    "import os\n",
    "from ipywidgets import interact_manual \n",
    "from IPython.display import clear_output\n",
    "import webdataset as wds\n",
    "from itertools import islice\n",
    "import ocropus4inf.ocrinf as inf\n"
   ]
  },
  {
   "cell_type": "code",
   "execution_count": null,
   "metadata": {
    "tags": []
   },
   "outputs": [],
   "source": [
    "\n",
    "os.environ[\"WDS_CACHE\"] = \"/tmp/ocropus_cache\"\n",
    "os.makedirs(os.environ[\"WDS_CACHE\"], exist_ok=True)\n",
    "\n",
    "import numpy as np\n",
    "import scipy.ndimage as ndi\n",
    "#import display\n",
    "from IPython.display import display\n",
    "\n",
    "def ensure_size(image, size=(3000, 3000)):\n",
    "    # ensure that the image fits into size\n",
    "    # zoom down if necessary using ndi.zoom\n",
    "    # do nothing if the image is smaller\n",
    "    # handle grayscale and color images\n",
    "    if image.shape[0] > size[0] or image.shape[1] > size[1]:\n",
    "        zoom = min(size[0] / image.shape[0], size[1] / image.shape[1])\n",
    "        if image.ndim == 2:\n",
    "            image = ndi.zoom(image, zoom, order=1)\n",
    "        else:\n",
    "            image = ndi.zoom(image, (zoom, zoom, 1), order=1)\n",
    "    return image\n",
    "\n"
   ]
  },
  {
   "cell_type": "code",
   "execution_count": null,
   "metadata": {
    "tags": []
   },
   "outputs": [],
   "source": [
    "\n",
    "figsize(20, 20)\n",
    "\n",
    "volumes4 = [f\"{i:04d}\" for i in range(0, 1000)]\n",
    "volumes = [f\"{i:06d}\" for i in range(0, 1000)]\n",
    "all_pages = [i for i in range(100)]\n",
    "fontsizes = [4, 6, 8, 10, 12, 14, 18, 24]\n",
    "preproc_modes = [\"none\", \"binarize\", \"threshold\"]\n"
   ]
  },
  {
   "cell_type": "markdown",
   "metadata": {
    "tags": []
   },
   "source": [
    "# Quick OCR Viewer - Internet Archive\n",
    "\n",
    "Select a shard/page and view OCR results."
   ]
  },
  {
   "cell_type": "code",
   "execution_count": null,
   "metadata": {
    "tags": []
   },
   "outputs": [],
   "source": [
    "textmodel = \"https://storage.googleapis.com/ocro-models/v1/lstm_resnet_v2-038-000330009.jit\"\n",
    "segmodel = \"https://storage.googleapis.com/ocro-models/v1/seg_unet_v2-023-000272940.jit\"\n",
    "pagerec = inf.PageRecognizer(textmodel=textmodel, segmodel=segmodel, device=\"cuda:0\")"
   ]
  },
  {
   "attachments": {},
   "cell_type": "markdown",
   "metadata": {},
   "source": [
    "**NB: if you are loading a .jit model, the first couple of runs will be much slower.**"
   ]
  },
  {
   "cell_type": "code",
   "execution_count": null,
   "metadata": {
    "tags": []
   },
   "outputs": [],
   "source": [
    "@interact_manual(volume=volumes, pageno=all_pages, fontsize=fontsizes, preproc=preproc_modes)\n",
    "def process_page(volume, pageno=25, fontsize=8, preproc=\"none\"):\n",
    "    fig, ax = plt.subplots(1, 1, figsize=(20, 20))\n",
    "    ds = wds.WebDataset(f\"https://storage.googleapis.com/ocro-iaa/segs/books-{volume}-segs.tar\").decode(\"l\")\n",
    "    gray = next(islice(ds, pageno, pageno+1))[\"jpg\"]\n",
    "    start = time.time()\n",
    "    results = pagerec.recognize(gray, preproc=preproc)\n",
    "    ax.set_title(f\"{volume} {pageno} ({time.time()-start:.1f}s)\")\n",
    "    pagerec.draw_overlaid(fontsize=fontsize, ax=ax)"
   ]
  },
  {
   "cell_type": "markdown",
   "metadata": {},
   "source": [
    "# Quick OCR Viewer - Google 1000 Books"
   ]
  },
  {
   "cell_type": "code",
   "execution_count": null,
   "metadata": {
    "tags": []
   },
   "outputs": [],
   "source": [
    "@interact_manual(volume=volumes4, pageno=all_pages, fontsize=fontsizes, preproc=preproc_modes)\n",
    "def process_page(volume=\"0010\", pageno=25, fontsize=8, preproc=\"none\"):\n",
    "    fig, ax = plt.subplots(1, 1, figsize=(20, 20))\n",
    "    ds = wds.WebDataset(f\"https://storage.googleapis.com/ocro-g1000/tess/Volume_{volume}.tgz\").decode(\"l\")\n",
    "    gray = next(islice(ds, pageno, pageno+1))[\"jpeg\"]\n",
    "    start = time.time()\n",
    "    results = pagerec.recognize(gray, preproc=preproc)\n",
    "    ax.set_title(f\"{volume} {pageno} ({time.time()-start:.1f}s)\")\n",
    "    pagerec.draw_overlaid(fontsize=fontsize, ax=ax)"
   ]
  },
  {
   "cell_type": "markdown",
   "metadata": {},
   "source": [
    "# OCR and Segmentation Viewer\n",
    "\n",
    "This displays the OCR result and the segmentation rsults side-by-side to help with debugging."
   ]
  },
  {
   "cell_type": "code",
   "execution_count": null,
   "metadata": {},
   "outputs": [],
   "source": [
    "attrs = [\"seg_probs\", \"wordmap\"]\n",
    "\n",
    "@interact_manual(volume=volumes, pageno=all_pages, fontsize=fontsizes, preproc=preproc_modes, attr=attrs)\n",
    "def showseg(volume=\"000010\", pageno=25, fontsize=8, preproc=\"none\", attr=\"seg_probs\"):\n",
    "    fig, axs = plt.subplots(1, 2, figsize=(20, 20))\n",
    "    ds = wds.WebDataset(f\"https://storage.googleapis.com/ocro-iaa/segs/books-{volume}-segs.tar\").decode(\"l\")\n",
    "    gray = next(islice(ds, pageno, pageno+1))[\"jpg\"]\n",
    "    start = time.time()\n",
    "    results = pagerec.recognize(gray, preproc=preproc)\n",
    "    axs[0].set_title(f\"{volume} {pageno} ({time.time()-start:.1f}s)\")\n",
    "    pagerec.draw_overlaid(fontsize=fontsize, ax=axs[0])\n",
    "    if attr == \"seg_probs\":\n",
    "        axs[1].imshow(pagerec.seg_probs[:,:,1:])\n",
    "    elif attr == \"wordmap\":\n",
    "        inf.show_seg(pagerec.wordmap, ax=axs[1])"
   ]
  },
  {
   "cell_type": "code",
   "execution_count": null,
   "metadata": {},
   "outputs": [],
   "source": []
  }
 ],
 "metadata": {
  "kernelspec": {
   "display_name": "Python 3 (ipykernel)",
   "language": "python",
   "name": "python3"
  },
  "language_info": {
   "codemirror_mode": {
    "name": "ipython",
    "version": 3
   },
   "file_extension": ".py",
   "mimetype": "text/x-python",
   "name": "python",
   "nbconvert_exporter": "python",
   "pygments_lexer": "ipython3",
   "version": "3.10.6"
  }
 },
 "nbformat": 4,
 "nbformat_minor": 4
}
